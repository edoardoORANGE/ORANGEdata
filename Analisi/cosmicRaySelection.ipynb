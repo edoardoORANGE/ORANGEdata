{
 "cells": [
  {
   "cell_type": "markdown",
   "metadata": {},
   "source": [
    "# Selezione degli Eventi dovuti ai Cosmici\n",
    "Il programma di seguito permette di selezionare tra gli eventi rivelati quelli effettivamente dovuti ai cosmici.\n",
    "A seconda che il dataset sia della configurazione di $autotrigger$ o di $coincidenza$ il programma analizza diversamente i dati"
   ]
  },
  {
   "cell_type": "code",
   "execution_count": 1,
   "metadata": {},
   "outputs": [
    {
     "name": "stdout",
     "output_type": "stream",
     "text": [
      "Welcome to JupyROOT 6.16/00\n"
     ]
    }
   ],
   "source": [
    "import numpy as np\n",
    "import matplotlib.pyplot as plt\n",
    "import ROOT as root"
   ]
  },
  {
   "cell_type": "markdown",
   "metadata": {},
   "source": [
    "Apro il file $.root$ come di consueto e salvo i dati in appositi array"
   ]
  },
  {
   "cell_type": "code",
   "execution_count": 15,
   "metadata": {},
   "outputs": [],
   "source": [
    "choice = 'Cosmici' #'Cosmici' o 'self'\n",
    "\n",
    "fileROOT = root.TFile('../PMTgem/'+choice+'PMTgem_410.root')#\"chargeDataBlu.root\") #nome del rootfile\n",
    "tree = fileROOT.Get(\"t1\") #nome del datatree\n",
    "\n",
    "n = 1024\n",
    "nDat = 4*n #numero dati per evento\n",
    "nEvts = tree.GetEntries() #numero di eventi\n",
    "\n",
    "#creo due array vuoti per salvare wave_array e time_array del .root\n",
    "\n",
    "wave = np.zeros((nEvts,nDat))\n",
    "time = np.zeros((nEvts,nDat))\n",
    "\n",
    "#eseguo un ciclo sul tree e salvo i dati dentro gli array come ulteriori array...\n",
    "#quindi adesso avrò array 2d in cui il primo indice si riferisce all'evento e il secondo al dato \n",
    "#contenuto dentro quell'evento\n",
    "i=0\n",
    "for dat in tree:\n",
    "    wave[i] = np.array(dat.wave_array)\n",
    "    time[i] = np.array(dat.time_array)\n",
    "    i = i+1"
   ]
  },
  {
   "cell_type": "code",
   "execution_count": 16,
   "metadata": {},
   "outputs": [
    {
     "name": "stdout",
     "output_type": "stream",
     "text": [
      "((1000, 1024), 1024)\n"
     ]
    }
   ],
   "source": [
    "waveCh1 = np.zeros((nEvts,n))\n",
    "waveCh2 = np.zeros((nEvts,n))\n",
    "waveCh3 = np.zeros((nEvts,n))\n",
    "waveCh4 = np.zeros((nEvts,n))\n",
    "\n",
    "timeCh1 = np.zeros((nEvts,n))\n",
    "timeCh2 = np.zeros((nEvts,n))\n",
    "timeCh3 = np.zeros((nEvts,n))\n",
    "timeCh4 = np.zeros((nEvts,n))\n",
    "\n",
    "\n",
    "print(waveCh1.shape , nDat/4)\n",
    "\n",
    "for i in range(nEvts):\n",
    "    for j in range(nDat):\n",
    "        if j < nDat/4:\n",
    "            waveCh1[i][j] = wave[i][j]\n",
    "            timeCh1[i][j] = time[i][j]\n",
    "        elif j >= nDat/4 and j < nDat/2:\n",
    "            waveCh2[i][j-n] = wave[i][j]\n",
    "            timeCh2[i][j-n] = time[i][j]\n",
    "        elif j >= nDat/2 and j < nDat*3/4:\n",
    "            waveCh3[i][j-2*n] = wave[i][j]\n",
    "            timeCh3[i][j-2*n] = time[i][j]\n",
    "        elif j >= nDat*3/4: \n",
    "            waveCh4[i][j-3*n] = wave[i][j]\n",
    "            timeCh4[i][j-3*n] = time[i][j]\n"
   ]
  },
  {
   "cell_type": "markdown",
   "metadata": {},
   "source": [
    "trovo i files da eliminare perchè errori del DRS"
   ]
  },
  {
   "cell_type": "code",
   "execution_count": 17,
   "metadata": {},
   "outputs": [
    {
     "name": "stdout",
     "output_type": "stream",
     "text": [
      "(8, 1, 0.9928385615348816)\n",
      "(203, 1, 0.9928385615348816)\n",
      "(205, 1, 0.9928385615348816)\n",
      "(443, 1, 0.9928385615348816)\n",
      "(632, 1, 0.9928385615348816)\n",
      "(763, 1, 0.9928385615348816)\n",
      "(777, 1, 0.9928385615348816)\n",
      "(935, 1, 0.9928385615348816)\n",
      "8\n"
     ]
    }
   ],
   "source": [
    "j= 0\n",
    "for i in range(nEvts):\n",
    "    if min(waveCh4[i]) < -90 and waveCh4[i].argmin() < 5: \n",
    "        print(i , waveCh4[i].argmin() , timeCh4[i][waveCh4[i].argmin()])\n",
    "        j = j+1\n",
    "print(j)\n"
   ]
  },
  {
   "cell_type": "markdown",
   "metadata": {},
   "source": [
    "Di seguito vengono estratti solo i dati utilizzabili, cioè quei dati non corrotti dal DRS, e copiati in due nuovi array di dimensioni opportune. Quindi a seconda del dataset scelto il programma procede nell'identificazione degli eventi riconducibili a cosmici."
   ]
  },
  {
   "cell_type": "code",
   "execution_count": 18,
   "metadata": {},
   "outputs": [
    {
     "name": "stdout",
     "output_type": "stream",
     "text": [
      "Ci sono 319 coincidenze rilevate\n"
     ]
    }
   ],
   "source": [
    "waveCh4New = np.zeros((nEvts-j,n))\n",
    "waveCh1New = np.zeros((nEvts-j,n))\n",
    "k = 0\n",
    "for i in np.arange(1,nEvts):\n",
    "    #butto gli eventi con il picco strano e copio Ch1 e Ch4 in nuovi array\n",
    "    if min(waveCh4[i]) >= -110 or (min(waveCh4[i])< -110  and waveCh4[i].argmin() != 1):\n",
    "        waveCh4New[k] = waveCh4[i]\n",
    "        waveCh1New[k] = waveCh1[i]\n",
    "        k = k+1\n",
    "        \n",
    "segnale = []\n",
    "trigger = []\n",
    "if choice == 'Cosmici':\n",
    "    find = 0\n",
    "    for i in range(k):\n",
    "        if min(waveCh4New[i])<-20:\n",
    "            segnale.append(waveCh4New[i])\n",
    "            trigger.append(waveCh1New[i])\n",
    "            find += 1\n",
    "\n",
    "    segnale = np.array(segnale)\n",
    "    trigger = np.array(trigger)\n",
    "\n",
    "elif choice == 'self':\n",
    "    find = 0\n",
    "    for i in range(k):\n",
    "        if min(waveCh1New[i]) < -100 and waveCh1New[i][waveCh1New[i].argmin()+1] < -100:\n",
    "            #print(i , min(waveCh1New[i]))\n",
    "            segnale.append(waveCh4New[i])\n",
    "            trigger.append(waveCh1New[i])\n",
    "            find += 1\n",
    "\n",
    "    if find == 0 : print('Nessuna coincidenza trovata...')\n",
    "    else: \n",
    "        segnale = np.array(segnale)\n",
    "        trigger = np.array(trigger)\n",
    "print('Ci sono %d coincidenze rilevate'%(find))"
   ]
  },
  {
   "cell_type": "code",
   "execution_count": 54,
   "metadata": {},
   "outputs": [
    {
     "data": {
      "image/png": "[encoded data removed]",
      "text/plain": [
       "<Figure size 432x288 with 1 Axes>"
      ]
     },
     "metadata": {},
     "output_type": "display_data"
    }
   ],
   "source": [
    "N = 2\n",
    "plt.title('Plot WaveForm no.%d per trigger su %s'%(N,choice))\n",
    "plt.plot(trigger[N] , label = 'coinc (taglio a -110mV)')\n",
    "plt.plot(segnale[N] , label = 'sig')#-20mV')\n",
    "plt.ylim((-110,5))\n",
    "#plt.xlim((400,900))\n",
    "plt.grid()\n",
    "plt.legend()\n",
    "plt.show()"
   ]
  },
  {
   "cell_type": "code",
   "execution_count": 53,
   "metadata": {},
   "outputs": [],
   "source": [
    "execfile('selfFilter.py')"
   ]
  },
  {
   "cell_type": "code",
   "execution_count": null,
   "metadata": {},
   "outputs": [],
   "source": []
  }
 ],
 "metadata": {
  "kernelspec": {
   "display_name": "Python 2",
   "language": "python",
   "name": "python2"
  },
  "language_info": {
   "codemirror_mode": {
    "name": "ipython",
    "version": 2
   },
   "file_extension": ".py",
   "mimetype": "text/x-python",
   "name": "python",
   "nbconvert_exporter": "python",
   "pygments_lexer": "ipython2",
   "version": "2.7.15rc1"
  }
 },
 "nbformat": 4,
 "nbformat_minor": 2
}
