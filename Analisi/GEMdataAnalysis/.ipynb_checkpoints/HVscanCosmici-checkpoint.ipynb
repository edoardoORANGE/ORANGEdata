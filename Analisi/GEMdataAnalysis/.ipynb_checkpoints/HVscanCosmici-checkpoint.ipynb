{
 "cells": [
  {
   "cell_type": "markdown",
   "metadata": {},
   "source": [
    "# HV scan with Trigger on Cosmic Rays"
   ]
  },
  {
   "cell_type": "markdown",
   "metadata": {},
   "source": [
    "In questo script vengono analizzati i dati ottenuti triggerando sulle coincidenze"
   ]
  },
  {
   "cell_type": "code",
   "execution_count": null,
   "metadata": {},
   "outputs": [],
   "source": []
  },
  {
   "cell_type": "code",
   "execution_count": 33,
   "metadata": {
    "scrolled": false
   },
   "outputs": [
    {
     "name": "stdout",
     "output_type": "stream",
     "text": [
      "\n",
      "APERTURA di: ../../../Data/PMTgem/3GEMnew/Cosmici3G_380.root\n",
      "1000\n",
      "...(380) Caricamento Dati...\n",
      "...Caricamento Dati Completato!...\n",
      "\n",
      "\n",
      "...(380) Organizzazione Dati...\n",
      "...Organizzazione Completata...\n",
      "\n",
      "\n",
      "...Controllo Eventi Da Scartare...\n",
      "...Eventi Scartati da ../../../Data/PMTgem/3GEMnew/Cosmici3G_380.root: 3/1000\n",
      "\n",
      "\n",
      "...(380) Rimozione Piedistallo...\n",
      "...Piedistallo Rimosso...\n",
      "\n",
      "\n",
      "...(380) Calcolo del Segnale in Corrente e Rimozione degli Eventi Da Scartare...\n",
      "...Calcolo & Rimozione Completati...\n",
      "\n",
      "\n",
      "...CONTROLLO -> Eventi Eliminati da ../../../Data/PMTgem/3GEMnew/Cosmici3G_380.root 4\n",
      "\n",
      "\n",
      "...(380) Calcolo dell'Integrale di Carica...\n",
      "\n",
      "\n",
      "file dati creati...\n",
      "\n",
      "\n",
      "...Calcolo Eseguito...\n",
      "\n",
      "\n"
     ]
    },
    {
     "data": {
      "image/png": "[encoded data removed]",
      "text/plain": [
       "<Figure size 432x288 with 1 Axes>"
      ]
     },
     "metadata": {
      "needs_background": "light"
     },
     "output_type": "display_data"
    },
    {
     "name": "stdout",
     "output_type": "stream",
     "text": [
      "...(380) Calcolo del Valore Medio e Salvataggio...\n",
      "---- Analisi su ../../../Data/PMTgem/3GEMnew/Cosmici3G_380.root COMPLETATA! ----\n",
      "\n",
      "\n",
      "\n",
      "APERTURA di: ../../../Data/PMTgem/3GEMnew/Cosmici3G_400.root\n",
      "1000\n",
      "...(400) Caricamento Dati...\n",
      "...Caricamento Dati Completato!...\n",
      "\n",
      "\n",
      "...(400) Organizzazione Dati...\n",
      "...Organizzazione Completata...\n",
      "\n",
      "\n",
      "...Controllo Eventi Da Scartare...\n",
      "...Eventi Scartati da ../../../Data/PMTgem/3GEMnew/Cosmici3G_400.root: 7/1000\n",
      "\n",
      "\n",
      "...(400) Rimozione Piedistallo...\n",
      "...Piedistallo Rimosso...\n",
      "\n",
      "\n",
      "...(400) Calcolo del Segnale in Corrente e Rimozione degli Eventi Da Scartare...\n",
      "...Calcolo & Rimozione Completati...\n",
      "\n",
      "\n",
      "...CONTROLLO -> Eventi Eliminati da ../../../Data/PMTgem/3GEMnew/Cosmici3G_400.root 8\n",
      "\n",
      "\n",
      "...(400) Calcolo dell'Integrale di Carica...\n",
      "\n",
      "\n",
      "file dati creati...\n",
      "\n",
      "\n",
      "...Calcolo Eseguito...\n",
      "\n",
      "\n"
     ]
    },
    {
     "data": {
      "image/png": "[encoded data removed]",
      "text/plain": [
       "<Figure size 432x288 with 1 Axes>"
      ]
     },
     "metadata": {
      "needs_background": "light"
     },
     "output_type": "display_data"
    },
    {
     "name": "stdout",
     "output_type": "stream",
     "text": [
      "...(400) Calcolo del Valore Medio e Salvataggio...\n",
      "---- Analisi su ../../../Data/PMTgem/3GEMnew/Cosmici3G_400.root COMPLETATA! ----\n",
      "\n",
      "\n",
      "----- ANALISI GENERALE CONCLUSA!!!! ------\n"
     ]
    }
   ],
   "source": [
    "import ROOT as root\n",
    "import numpy as np\n",
    "import matplotlib.pyplot as plt\n",
    "\n",
    "from ROOT import TMath , TF1, TH1F\n",
    "import scipy.stats as st \n",
    "\n",
    "voltage = [380 , 400]#[380 , 400 , 420 , 450 , 470 , 480 , 490]#[400 , 420 ,450 , 470 , 490]#\n",
    "nGEM = '3'\n",
    "\n",
    "\n",
    "#definisco degli array in cui salvare dinamicamente i valori da graficare\n",
    "means = []\n",
    "errors = []\n",
    "hv = []\n",
    "\n",
    "dataset1 = []\n",
    "dataset1Blu = []\n",
    "dataset1Verde = []\n",
    "\n",
    "dataset2 = []\n",
    "dataset2Blu = []\n",
    "dataset2Verde = []\n",
    "\n",
    "dataset3 = []\n",
    "dataset3Blu = []\n",
    "dataset3Verde = []\n",
    "\n",
    "\n",
    "pied1 = []\n",
    "pied2 = []\n",
    "pied3 = []\n",
    "\n",
    "for number in voltage: #ciclo che permette di aprire tutti i file in sequenza\n",
    "    filename = '../../../Data/PMTgem/'+nGEM+'GEMnew/Cosmici'+nGEM+'G_%s.root'%(str(number)) #_%s_1000eventi.root'%(str(number))\n",
    "    #filename = 'scanED2000.root'\n",
    "    print(\"\\nAPERTURA di: \" + filename)\n",
    "    \n",
    "    fileROOT = root.TFile(filename)#\"chargeDataBlu.root\") #nome del rootfile\n",
    "    tree = fileROOT.Get(\"t1\") #nome del datatree\n",
    "\n",
    "    n = 1024\n",
    "    nCh = 4\n",
    "    nDat = n*nCh #numero dati per evento...vengono salvati in riga tutti i canali\n",
    "    nEvts = tree.GetEntries() #numero di eventi\n",
    "    \n",
    "    wave = np.zeros((nEvts,nDat))\n",
    "    time = np.zeros((nEvts,nDat))\n",
    "    \n",
    "    print(nEvts)\n",
    "    print('...(%d) Caricamento Dati...'%(number))\n",
    "    i=0\n",
    "    for dat in tree:\n",
    "        wave[i] = np.array(dat.wave_array)\n",
    "        time[i] = np.array(dat.time_array)\n",
    "        i = i+1    \n",
    "\n",
    "    print('...Caricamento Dati Completato!...\\n\\n')\n",
    "\n",
    "    waveCh1 = np.zeros((nEvts,n))\n",
    "    waveCh2 = np.zeros((nEvts,n))\n",
    "    waveCh3 = np.zeros((nEvts,n))\n",
    "    waveCh4 = np.zeros((nEvts,n))\n",
    "\n",
    "    timeCh1 = np.zeros((nEvts,n))\n",
    "    timeCh2 = np.zeros((nEvts,n))\n",
    "    timeCh3 = np.zeros((nEvts,n))\n",
    "    timeCh4 = np.zeros((nEvts,n))\n",
    "    \n",
    "    print('...(%d) Organizzazione Dati...'%(number))\n",
    "    \n",
    "    for i in range(nEvts):\n",
    "        for j in range(nDat):\n",
    "            if j < nDat/4:\n",
    "                waveCh1[i][j] = wave[i][j]\n",
    "                timeCh1[i][j] = time[i][j]\n",
    "            elif j >= nDat/4 and j < nDat/2:\n",
    "                waveCh2[i][j-n] = wave[i][j]\n",
    "                timeCh2[i][j-n] = time[i][j]\n",
    "            elif j >= nDat/2 and j < nDat*3/4:\n",
    "                waveCh3[i][j-2*n] = wave[i][j]\n",
    "                timeCh3[i][j-2*n] = time[i][j]\n",
    "            elif j >= nDat*3/4: \n",
    "                waveCh4[i][j-3*n] = wave[i][j]\n",
    "                timeCh4[i][j-3*n] = time[i][j]\n",
    "\n",
    "    print('...Organizzazione Completata...\\n\\n')\n",
    "    j = 0\n",
    "    print('...Controllo Eventi Da Scartare...')\n",
    "    for i in range(nEvts):\n",
    "        if min(waveCh4[i]) < -110 and waveCh4[i].argmin() < 5: \n",
    "            #print(i , waveCh4[i].argmin() , timeCh4[i][waveCh4[i].argmin()])\n",
    "            j = j+1\n",
    "    print('...Eventi Scartati da ' + filename + ': ' + str(j) + '/' + str(nEvts) + '\\n\\n')\n",
    "    \n",
    "    print('...(%d) Rimozione Piedistallo...'%(number))\n",
    "\n",
    "    for i in range(nEvts):\n",
    "        waveCh4[i] = waveCh4[i]-np.mean(waveCh4[i][100:200])\n",
    "    print(\"...Piedistallo Rimosso...\\n\\n\")\n",
    "    \n",
    "    print('...(%d) Calcolo del Segnale in Corrente e Rimozione degli Eventi Da Scartare...'%(number))\n",
    "   \n",
    "    waveCh4A = [] #PMT GEM\n",
    "    waveCh2A = [] #Scintillatore BLU\n",
    "    waveCh3A = [] #Scintillatore VERDE\n",
    "  \n",
    "    R = 50 #resistenza in Ohm   \n",
    "    signal = []\n",
    "    \n",
    "    for i in np.arange(1,nEvts):\n",
    "        #butto gli eventi con il picco strano\n",
    "        if (min(waveCh4[i]) >= -110 or ( min(waveCh4[i])< -110  and waveCh4[i].argmin() != 1 )):\n",
    "            waveCh4A.append(waveCh4[i]/R) #conversione dati Tensione -> dati Corrente\n",
    "            waveCh2A.append(waveCh2[i]/R) #blu\n",
    "            waveCh3A.append(waveCh3[i]/R) #verde\n",
    "            if min(waveCh4[i][600:800]) <= -20:\n",
    "                signal.append(waveCh4[i]/R)\n",
    "        else: 1 \n",
    "            #print(min(waveCh4[i]) , waveCh4[i].argmin() , i) #check\n",
    "\n",
    "    #Riconverto le liste delle forme d'onda di corrente in array\n",
    "    #waveCh4A = np.array(waveCh4A)\n",
    "    #waveCh2A = np.array(waveCh2A)\n",
    "    #waveCh3A = np.array(waveCh3A)\n",
    "    #signal = np.array(signal)\n",
    "    \n",
    "    #print(waveCh4A.shape)\n",
    "    print('...Calcolo & Rimozione Completati...\\n\\n')\n",
    "            \n",
    "    print('...CONTROLLO -> Eventi Eliminati da ' + filename + ' ' + str(nEvts - len(waveCh4A)) + '\\n\\n')#check\n",
    "    \n",
    "    print('...(%d) Calcolo dell\\'Integrale di Carica...'%(number))\n",
    "    #integral = np.zeros(len(waveCh4A))\n",
    "\n",
    "    integral = []\n",
    "    integralB = []\n",
    "    integralV = []\n",
    "    integralS = []\n",
    "    \n",
    "    #Eseguo l'Integrale\n",
    "\n",
    "#    file = open(\"histoCarica3_\"+str(number)+\".dat\", \"w\")\n",
    "\n",
    "    for i in range(len(waveCh4A)):\n",
    "        #treshold = max(waveCh4A[i][100:200]) - min(waveCh4A[i][100:200])\n",
    "        #treshold = np.std(waveCh4A[i][100:200])\n",
    "        #print(treshold)\n",
    "        #for j in range(len(waveCh4A[i][400:650])):\n",
    "         #   if waveCh4A[i][j] <= -3*treshold:\n",
    "        integral.append(sum(-waveCh4A[i][600:800]))\n",
    "        integralB.append(sum(-waveCh2A[i][400:800]))\n",
    "        integralV.append(sum(-waveCh3A[i][400:800]))\n",
    "        #        break\n",
    "        \n",
    "  \n",
    "       \n",
    "    #integral = np.array(integral)\n",
    "    #integralB = np.array(integralB)\n",
    "    #integralV = np.array(integralV)\n",
    "    \n",
    "    file = open( \"histoCarica\"+nGEM+\"G_%s.dat\"%(str(number)) , \"w\" )\n",
    "    for i in range(len(integral)):\n",
    "        file.write(str(integral[i])+\"\\t\" + str(integralB[i]) + \"\\t\" +str(integralV[i]) + \"\\n\")\n",
    "    file.close()\n",
    "     \n",
    "    \n",
    "    for i in range(len(signal)):\n",
    "        integralS.append(sum(-signal[i][600:800]))\n",
    "    \n",
    "    file = open(\"histoCarica\"+nGEM+\"G_S\"+str(number)+\".dat\", \"w\")\n",
    "    for i in range(len(integralS)):\n",
    "        file.write(str(integralS[i]) + \"\\n\")\n",
    "    file.close()\n",
    "    \n",
    "    print(\"\\n\\nfile dati creati...\\n\\n\")\n",
    "    \n",
    "    \n",
    "    \n",
    "    \n",
    "    \n",
    "    \n",
    "    \n",
    "    #if number == 480:#102:\n",
    "    #    for data in integral:\n",
    "    #        dataset1.append(data)\n",
    "    #    for data in integralB:\n",
    "    #        dataset1Blu.append(data)\n",
    "    #    for data in integralV:\n",
    "    #        dataset1Verde.append(data)\n",
    "    #        \n",
    "    #    for p in integralP:\n",
    "    #        pied1.append(p)\n",
    "    #\n",
    "    #elif number == 490:\n",
    "    #    for data in integral:\n",
    "    #        dataset2.append(data)\n",
    "    #    for data in integralV:\n",
    "    #        dataset2Verde.append(data)\n",
    "    #    for data in integralB:\n",
    "    #        dataset2Blu.append(data)\n",
    "    #    \n",
    "    #    for p in integralP:\n",
    "    #        pied2.append(p)\n",
    "    #    \n",
    "    #elif number == 470:\n",
    "    #    for data in integral:\n",
    "    #        dataset3.append(data)\n",
    "    #    for data in integralV:\n",
    "    #        dataset3Verde.append(data)\n",
    "    #    for data in integralB:\n",
    "    #        dataset3Blu.append(data)\n",
    "    #    \n",
    "    #    for p in integralP:\n",
    "    #        pied3.append(p)\n",
    "    print('...Calcolo Eseguito...\\n\\n')\n",
    "\n",
    "    \n",
    "    #----ISTOGRAMMA----\n",
    "\n",
    "    xmin = min(integral)\n",
    "   \n",
    "    h1 = TH1F( \"h1\", \"Istogramma di Carica $PMT_{gem}$ a %d V ; Charge [pC] ; Counts \"%(number), 3050, -50, 3000 )\n",
    "    for i in integral:\n",
    "        h1.Fill(i)\n",
    "       \n",
    "    xmax = h1.GetBinCenter(h1.GetMaximumBin())#max(integral)#  #è la x del max dell'istogramma\n",
    "    \n",
    "    from rootplot import root2matplotlib as r2m\n",
    "    \n",
    "    histo1 = r2m.Hist(h1) #permette di leggere l'istogramma già riempito da root\n",
    "    histo1.hist(histtype = 'step' , fill = False) #fa l'istogramma\n",
    "    plt.grid()\n",
    "    plt.legend()\n",
    "    histo1.show_titles()\n",
    "    plt.xlim((-10 , 100))\n",
    "    #plt.savefig('histo'+ str(number) + '.png')\n",
    "    plt.show()\n",
    "\n",
    "    #----------------------------\n",
    "    \n",
    "    print('...(%d) Calcolo del Valore Medio e Salvataggio...'%(number))\n",
    "    \n",
    "    #print(np.mean(integral) , func.GetParameter(1))\n",
    "\n",
    "    #means.append(np.mean(integral))#func.GetParameter(1))#\n",
    "    #errors.append(func.GetParameter(2)/np.sqrt(len(integral)))#func.GetParError(1))#\n",
    "    #hv.append(number)\n",
    "    \n",
    "    \n",
    "    \n",
    "    \n",
    "    \n",
    "#fine analisi\n",
    "    print('---- Analisi su ' + filename + ' COMPLETATA! ----\\n\\n')\n",
    "    \n",
    "print('----- ANALISI GENERALE CONCLUSA!!!! ------')"
   ]
  },
  {
   "cell_type": "code",
   "execution_count": 5,
   "metadata": {},
   "outputs": [
    {
     "data": {
      "image/png": "[encoded data removed]",
      "text/plain": [
       "<Figure size 432x288 with 1 Axes>"
      ]
     },
     "metadata": {
      "needs_background": "light"
     },
     "output_type": "display_data"
    },
    {
     "name": "stdout",
     "output_type": "stream",
     "text": [
      "6384\n"
     ]
    }
   ],
   "source": [
    "#plt.errorbar(np.array(hv) , np.array(means) , yerr = np.array(errors) , fmt = \"*\" , capsize = 5 , elinewidth = 1)\n",
    "plt.scatter(np.arange(len(integral)) , integral , s = 2)\n",
    "#plt.plot(np.arange(len(integral)))\n",
    "plt.grid()\n",
    "plt.xlabel('$n Event$')\n",
    "plt.ylabel('Charge Integral [pC]')\n",
    "plt.title('Charge Integral  in time')\n",
    "#plt.savefig('CaricaVsHVCosmici.png')\n",
    "plt.show()\n",
    "print(len(integral))"
   ]
  },
  {
   "cell_type": "code",
   "execution_count": 36,
   "metadata": {},
   "outputs": [
    {
     "data": {
      "image/png": "[encoded data removed]",
      "text/plain": [
       "<Figure size 432x288 with 1 Axes>"
      ]
     },
     "metadata": {
      "needs_background": "light"
     },
     "output_type": "display_data"
    }
   ],
   "source": [
    "maxBin = 3000.\n",
    "minBin = -50.\n",
    "nBin = 3050.\n",
    "binw = (maxBin-minBin)/nBin\n",
    "\n",
    "plt.hist(np.array(integral) , histtype = 'step' , fill = False , label = '480' , bins = np.arange(minBin , maxBin+binw , binw))\n",
    "plt.hist(np.array(integralS) , histtype = 'step' , fill = False , label = '480' , bins = np.arange(minBin , maxBin+binw , binw))\n",
    "\n",
    "#plt.hist(np.array(pied1) , histtype = 'step' , fill = False , label = 'piedistallo480', bins = np.arange(minBin , maxBin+binw , binw))\n",
    "\n",
    "#plt.hist(np.array(dataset2) , histtype = 'step' , fill = False , label = '490' , bins = np.arange(minBin , maxBin+binw , binw))\n",
    "#plt.hist(np.array(pied2) , histtype = 'step' , fill = False , label = 'piedistallo490' , bins = np.arange(minBin , maxBin+binw , binw))\n",
    "\n",
    "#plt.hist(np.array(dataset3) , histtype = 'step' , fill = False , label = '470' , bins = np.arange(minBin , maxBin+binw , binw))\n",
    "#plt.hist(np.array(pied3) , histtype = 'step' , fill = False , label = 'piedistallo470' , bins = np.arange(minBin , maxBin+binw , binw))\n",
    "\n",
    "\n",
    "#plt.yscale(\"log\")\n",
    "plt.xlim((0, 50))\n",
    "plt.legend()\n",
    "plt.grid()\n",
    "#plt.savefig('piedistallo480.png')\n",
    "plt.show()\n"
   ]
  },
  {
   "cell_type": "code",
   "execution_count": 25,
   "metadata": {},
   "outputs": [
    {
     "data": {
      "text/plain": [
       "(array([ 28., 285., 489., 138.,  28.,  10.,   6.,   8.,   1.,   3.]),\n",
       " array([-4.40599999, -1.79299998,  0.82000003,  3.43300005,  6.04600006,\n",
       "         8.65900007, 11.27200009, 13.8850001 , 16.49800011, 19.11100013,\n",
       "        21.72400014]),\n",
       " <a list of 10 Patch objects>)"
      ]
     },
     "execution_count": 25,
     "metadata": {},
     "output_type": "execute_result"
    },
    {
     "data": {
      "image/png": "[encoded data removed]",
      "text/plain": [
       "<Figure size 432x288 with 1 Axes>"
      ]
     },
     "metadata": {
      "needs_background": "light"
     },
     "output_type": "display_data"
    }
   ],
   "source": [
    "plt.hist(integral , bins = )"
   ]
  },
  {
   "cell_type": "code",
   "execution_count": null,
   "metadata": {},
   "outputs": [],
   "source": []
  }
 ],
 "metadata": {
  "kernelspec": {
   "display_name": "Python 2",
   "language": "python",
   "name": "python2"
  },
  "language_info": {
   "codemirror_mode": {
    "name": "ipython",
    "version": 2
   },
   "file_extension": ".py",
   "mimetype": "text/x-python",
   "name": "python",
   "nbconvert_exporter": "python",
   "pygments_lexer": "ipython2",
   "version": "2.7.5"
  }
 },
 "nbformat": 4,
 "nbformat_minor": 2
}
