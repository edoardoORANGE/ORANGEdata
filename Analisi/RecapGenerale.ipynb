{
 "cells": [
  {
   "cell_type": "markdown",
   "metadata": {},
   "source": [
    "# Recap Generale ORANGE"
   ]
  },
  {
   "cell_type": "markdown",
   "metadata": {},
   "source": [
    "##  GEM spenta\n"
   ]
  },
  {
   "cell_type": "markdown",
   "metadata": {},
   "source": [
    "|   Misura    | Trigger | Soglia | #Eventi | Canali |\n",
    "|-------------|---------|--------|---------|--------|\n",
    "|$\\textbf{Fotoelettrone}$| Autotrigger | -5 mV (software) | 10000 | $\\mu$ , V , B , PMT |\n",
    "|$\\textbf{Cherenkov}$| PMT and $\\mu$ | -30 mV (sul discriminatore) | 1000 | Trigger , V ,B PMT|"
   ]
  },
  {
   "cell_type": "markdown",
   "metadata": {},
   "source": [
    "## GEM accesa\n",
    "\n",
    "### 2 layer\n",
    "$Ed = Et_{1,2} = 2000$ $V/cm$\n"
   ]
  },
  {
   "cell_type": "markdown",
   "metadata": {},
   "source": [
    "|   Misura    | Trigger | Soglia | #Eventi | Canali | Attenuazione |\n",
    "|-------------|---------|--------|---------|--------|--------------|\n",
    "|$\\textbf{scan $HV_{GEM}$}$| Autotrigger | -10 mV (software) | 1000 | $\\mu$ , V , B , PMT | n.d. |\n",
    "|$\\textbf{scan $HV_{GEM}$}$| Cosmici | n.d. | 1000 | $\\mu$ , V ,B PMT| n.d.|"
   ]
  },
  {
   "cell_type": "markdown",
   "metadata": {},
   "source": [
    "### 3 layer\n"
   ]
  },
  {
   "cell_type": "markdown",
   "metadata": {},
   "source": [
    "|   Misura    | Trigger | Soglia | #Eventi | Canali | Attenuazione | $E_{t_{1,2}}$ V/cm| $E_d$ V/cm |\n",
    "|-------------|---------|--------|---------|--------|--------------|---------------|-------|\n",
    "|$\\textbf{scan $HV_{GEM}$}$| Autotrigger | -10 mV (software) | 1000 | $\\mu$ , V , B , PMT | 12 dB | 2000 | 2000 |\n",
    "|$\\textbf{scan $HV_{GEM}$}$| Cosmici | n.d. | 500 | $\\mu$ , V ,B PMT| 12 dB | 2000 | 2000 |\n",
    "|$\\textbf{scan $E_{t_{1,2}}$}$| Cosmici | n.d. | 500 | $\\mu$ , V ,B PMT | 12 dB | 0 - 2500 | 1500 |"
   ]
  },
  {
   "cell_type": "code",
   "execution_count": null,
   "metadata": {},
   "outputs": [],
   "source": []
  }
 ],
 "metadata": {
  "kernelspec": {
   "display_name": "Python 2",
   "language": "python",
   "name": "python2"
  },
  "language_info": {
   "codemirror_mode": {
    "name": "ipython",
    "version": 2
   },
   "file_extension": ".py",
   "mimetype": "text/x-python",
   "name": "python",
   "nbconvert_exporter": "python",
   "pygments_lexer": "ipython2",
   "version": "2.7.5"
  }
 },
 "nbformat": 4,
 "nbformat_minor": 2
}
