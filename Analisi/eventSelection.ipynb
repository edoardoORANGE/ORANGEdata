{
 "cells": [
  {
   "cell_type": "code",
   "execution_count": 1,
   "metadata": {},
   "outputs": [
    {
     "name": "stdout",
     "output_type": "stream",
     "text": [
      "Welcome to JupyROOT 6.14/04\n"
     ]
    }
   ],
   "source": [
    "import numpy as np\n",
    "import matplotlib.pyplot as plt\n",
    "import ROOT as root"
   ]
  },
  {
   "cell_type": "code",
   "execution_count": 5,
   "metadata": {},
   "outputs": [],
   "source": [
    "choice = 'self' #'Cosmici' o 'self'\n",
    "\n",
    "fileROOT = root.TFile('../../Data/PMTgem/'+choice+'PMTgem_410.root')#\"chargeDataBlu.root\") #nome del rootfile\n",
    "tree = fileROOT.Get(\"t1\") #nome del datatree\n",
    "\n",
    "n = 1024\n",
    "nDat = 4*n #numero dati per evento\n",
    "nEvts = tree.GetEntries() #numero di eventi\n",
    "\n",
    "#creo due array vuoti per salvare wave_array e time_array del .root\n",
    "\n",
    "wave = np.zeros((nEvts,nDat))\n",
    "time = np.zeros((nEvts,nDat))\n",
    "\n",
    "#eseguo un ciclo sul tree e salvo i dati dentro gli array come ulteriori array...\n",
    "#quindi adesso avrò array 2d in cui il primo indice si riferisce all'evento e il secondo al dato \n",
    "#contenuto dentro quell'evento\n",
    "i=0\n",
    "for dat in tree:\n",
    "    wave[i] = np.array(dat.wave_array)\n",
    "    time[i] = np.array(dat.time_array)\n",
    "    i = i+1"
   ]
  },
  {
   "cell_type": "code",
   "execution_count": 6,
   "metadata": {},
   "outputs": [
    {
     "name": "stdout",
     "output_type": "stream",
     "text": [
      "((1000, 1024), 1024)\n"
     ]
    }
   ],
   "source": [
    "waveCh1 = np.zeros((nEvts,n))\n",
    "waveCh2 = np.zeros((nEvts,n))\n",
    "waveCh3 = np.zeros((nEvts,n))\n",
    "waveCh4 = np.zeros((nEvts,n))\n",
    "\n",
    "timeCh1 = np.zeros((nEvts,n))\n",
    "timeCh2 = np.zeros((nEvts,n))\n",
    "timeCh3 = np.zeros((nEvts,n))\n",
    "timeCh4 = np.zeros((nEvts,n))\n",
    "\n",
    "\n",
    "print(waveCh1.shape , nDat/4)\n",
    "\n",
    "for i in range(nEvts):\n",
    "    for j in range(nDat):\n",
    "        if j < nDat/4:\n",
    "            waveCh1[i][j] = wave[i][j]\n",
    "            timeCh1[i][j] = time[i][j]\n",
    "        elif j >= nDat/4 and j < nDat/2:\n",
    "            waveCh2[i][j-n] = wave[i][j]\n",
    "            timeCh2[i][j-n] = time[i][j]\n",
    "        elif j >= nDat/2 and j < nDat*3/4:\n",
    "            waveCh3[i][j-2*n] = wave[i][j]\n",
    "            timeCh3[i][j-2*n] = time[i][j]\n",
    "        elif j >= nDat*3/4: \n",
    "            waveCh4[i][j-3*n] = wave[i][j]\n",
    "            timeCh4[i][j-3*n] = time[i][j]\n"
   ]
  },
  {
   "cell_type": "code",
   "execution_count": 7,
   "metadata": {},
   "outputs": [
    {
     "name": "stdout",
     "output_type": "stream",
     "text": [
      "(301, 1, 0.9928385615348816)\n",
      "(426, 1, 0.9928385615348816)\n",
      "(706, 1, 0.9928385615348816)\n",
      "(980, 1, 0.9928385615348816)\n",
      "4\n"
     ]
    }
   ],
   "source": [
    "j= 0\n",
    "for i in range(nEvts):\n",
    "    if min(waveCh4[i]) < -90 and waveCh4[i].argmin() < 5: \n",
    "        print(i , waveCh4[i].argmin() , timeCh4[i][waveCh4[i].argmin()])\n",
    "        j = j+1\n",
    "print(j)\n"
   ]
  },
  {
   "cell_type": "code",
   "execution_count": null,
   "metadata": {},
   "outputs": [],
   "source": []
  }
 ],
 "metadata": {
  "kernelspec": {
   "display_name": "Python 2",
   "language": "python",
   "name": "python2"
  },
  "language_info": {
   "codemirror_mode": {
    "name": "ipython",
    "version": 2
   },
   "file_extension": ".py",
   "mimetype": "text/x-python",
   "name": "python",
   "nbconvert_exporter": "python",
   "pygments_lexer": "ipython2",
   "version": "2.7.5"
  }
 },
 "nbformat": 4,
 "nbformat_minor": 2
}
