{
 "cells": [
  {
   "cell_type": "code",
   "execution_count": 1,
   "metadata": {},
   "outputs": [
    {
     "name": "stdout",
     "output_type": "stream",
     "text": [
      "Welcome to JupyROOT 6.14/04\n"
     ]
    }
   ],
   "source": [
    "import ROOT as root\n",
    "import numpy as np\n",
    "import matplotlib.pyplot as plt\n"
   ]
  },
  {
   "cell_type": "code",
   "execution_count": 2,
   "metadata": {},
   "outputs": [],
   "source": [
    "fileROOT = root.TFile('../SinglePhoto/singlePhoto22mV.root')#\"chargeDataBlu.root\") #nome del rootfile\n",
    "tree = fileROOT.Get(\"t1\") #nome del datatree\n",
    "\n",
    "nDat = 1024*4 #numero dati per evento\n",
    "nEvts = tree.GetEntries() #numero di eventi\n",
    "n = 1024\n",
    "#creo due array vuoti per salvare wave_array e time_array del .root\n",
    "\n",
    "wave = np.zeros((nEvts,nDat))\n",
    "time = np.zeros((nEvts,nDat))\n",
    "\n",
    "#eseguo un ciclo sul tree e salvo i dati dentro gli array come ulteriori array...\n",
    "#quindi adesso avrò array 2d in cui il primo indice si riferisce all'evento e il secondo al dato \n",
    "#contenuto dentro quell'evento\n",
    "i=0\n",
    "for dat in tree:\n",
    "    wave[i] = np.array(dat.wave_array)\n",
    "    time[i] = np.array(dat.time_array)\n",
    "    i = i+1\n"
   ]
  },
  {
   "cell_type": "code",
   "execution_count": 3,
   "metadata": {},
   "outputs": [
    {
     "name": "stdout",
     "output_type": "stream",
     "text": [
      "((1000, 1024), 1024)\n"
     ]
    }
   ],
   "source": [
    "waveCh1 = np.zeros((nEvts,n))\n",
    "waveCh2 = np.zeros((nEvts,n))\n",
    "waveCh3 = np.zeros((nEvts,n))\n",
    "waveCh4 = np.zeros((nEvts,n))\n",
    "\n",
    "timeCh1 = np.zeros((nEvts,n))\n",
    "timeCh2 = np.zeros((nEvts,n))\n",
    "timeCh3 = np.zeros((nEvts,n))\n",
    "timeCh4 = np.zeros((nEvts,n))\n",
    "\n",
    "\n",
    "print(waveCh1.shape , nDat/4)\n",
    "\n",
    "for i in range(nEvts):\n",
    "    for j in range(nDat):\n",
    "        if j < nDat/4:\n",
    "            waveCh1[i][j] = wave[i][j]\n",
    "            timeCh1[i][j] = time[i][j]\n",
    "        elif j >= nDat/4 and j < nDat/2:\n",
    "            waveCh2[i][j-n] = wave[i][j]\n",
    "            timeCh2[i][j-n] = time[i][j]\n",
    "        elif j >= nDat/2 and j < nDat*3/4:\n",
    "            waveCh3[i][j-2*n] = wave[i][j]\n",
    "            timeCh3[i][j-2*n] = time[i][j]\n",
    "        elif j >= nDat*3/4: \n",
    "            waveCh4[i][j-3*n] = wave[i][j]\n",
    "            timeCh4[i][j-3*n] = time[i][j]\n"
   ]
  },
  {
   "cell_type": "code",
   "execution_count": 4,
   "metadata": {},
   "outputs": [
    {
     "name": "stdout",
     "output_type": "stream",
     "text": [
      "(156, 1, 0.9928385615348816)\n",
      "(245, 1, 0.9928385615348816)\n",
      "(316, 1, 0.9928385615348816)\n",
      "(386, 1, 0.9928385615348816)\n",
      "(477, 1, 0.9928385615348816)\n",
      "(648, 1, 0.9928385615348816)\n",
      "(689, 1, 0.9928385615348816)\n",
      "(690, 1, 0.9928385615348816)\n",
      "(717, 1, 0.9928385615348816)\n",
      "(857, 1, 0.9928385615348816)\n",
      "(4105, 8)\n"
     ]
    }
   ],
   "source": [
    "for i in range(nEvts):\n",
    "    if min(waveCh4[i]) < -110 and waveCh4[i].argmin() < 5: \n",
    "        print(i , waveCh4[i].argmin() , timeCh4[i][waveCh4[i].argmin()])\n",
    "        j = j+1\n",
    "print(j , 8)"
   ]
  },
  {
   "cell_type": "code",
   "execution_count": 5,
   "metadata": {},
   "outputs": [],
   "source": [
    "for i in range(nEvts):\n",
    "    waveCh4[i] = waveCh4[i]-np.mean(waveCh4[i][100:200])\n",
    "    "
   ]
  },
  {
   "cell_type": "code",
   "execution_count": 6,
   "metadata": {},
   "outputs": [
    {
     "name": "stdout",
     "output_type": "stream",
     "text": [
      "118\n"
     ]
    }
   ],
   "source": [
    "waveCh4A = np.zeros((nEvts-8,n))\n",
    "R = 50 #resistenza in Ohm\n",
    "\n",
    "j=0\n",
    "for i in np.arange(1,nEvts):\n",
    "    #butto gli eventi con il picco strano\n",
    "    if min(waveCh4[i]) >= -110 or (min(waveCh4[i])< -110  and waveCh4[i].argmin() != 1):\n",
    "        #seleziono solo gli eventi che hanno picchi sotto i 50mV (è una prova)\n",
    "        if min(waveCh4[i]) >= -30: \n",
    "            waveCh4A[j] = waveCh4[i]/R #conversione dati Tensione -> dati Corrente\n",
    "            j = j+1\n",
    "    else: 1 \n",
    "        #print(min(waveCh4[i]) , waveCh4[i].argmin() , i) #check\n",
    "        \n",
    "        \n",
    "print(j+1)#check\n",
    "integral = np.zeros(j)\n",
    "#Eseguo l'Integrale\n",
    "for i in range(j):\n",
    "    integral[i] = sum(-waveCh4A[i])\n"
   ]
  },
  {
   "cell_type": "code",
   "execution_count": 22,
   "metadata": {},
   "outputs": [
    {
     "name": "stderr",
     "output_type": "stream",
     "text": [
      "Warning in <TFile::Append>: Replacing existing TH1: h1 (Potential memory leak).\n"
     ]
    },
    {
     "data": {
      "image/png": "[encoded data removed]",
      "text/plain": [
       "<Figure size 432x288 with 1 Axes>"
      ]
     },
     "metadata": {
      "needs_background": "light"
     },
     "output_type": "display_data"
    }
   ],
   "source": [
    "from ROOT import TMath , TCanvas , TGraph , TH1D\n",
    "\n",
    "y,x,_ = plt.hist(integral , bins = 30 , density = False , label = 'Data' , color = 'grey')\n",
    "h1 = TH1D( 'h1', 'This is the px distribution', 100, -30, 30 )\n",
    "\n",
    "for i in integral:\n",
    "    h1.Fill(i)"
   ]
  },
  {
   "cell_type": "code",
   "execution_count": 13,
   "metadata": {},
   "outputs": [
    {
     "name": "stdout",
     "output_type": "stream",
     "text": [
      "\n",
      "****************************************\n",
      "Minimizer is Minuit / Migrad\n",
      "Chi2                      =      51.5628\n",
      "NDf                       =           18\n",
      "Edm                       =  1.70122e-08\n",
      "NCalls                    =           68\n",
      "Constant                  =       17.169   +/-   0.992064    \n",
      "Mean                      =      7.37575   +/-   0.11988     \n",
      "Sigma                     =      1.83321   +/-   0.128881     \t (limited)\n"
     ]
    }
   ],
   "source": [
    "c = TCanvas()\n",
    "g = TGraph(x.size, x.astype(np.double),y.astype(np.double))\n",
    "\n",
    "fit = g.Fit(\"gaus\" , \"S\")"
   ]
  },
  {
   "cell_type": "code",
   "execution_count": 18,
   "metadata": {},
   "outputs": [
    {
     "data": {
      "image/png": "[encoded data removed]",
      "text/plain": [
       "<Figure size 432x288 with 1 Axes>"
      ]
     },
     "metadata": {
      "needs_background": "light"
     },
     "output_type": "display_data"
    }
   ],
   "source": [
    "from rootplot import root2matplotlib as r2m\n",
    "\n",
    "histo1 = r2m.Hist(h1) #permette di leggere l'istogramma già riempito da root\n",
    "histo1.hist() #fa l'istogramma\n",
    "#plt.plot(fit)\n",
    "plt.xlim([0,20])\n",
    "plt.show() #lo stampa"
   ]
  },
  {
   "cell_type": "code",
   "execution_count": 23,
   "metadata": {},
   "outputs": [
    {
     "name": "stdout",
     "output_type": "stream",
     "text": [
      "(17.169021283806288, 7.375751353619207, 1.8332053799006196)\n"
     ]
    }
   ],
   "source": [
    "#richiarmo i parametri di fit di ROOT\n",
    "a = fit.Get().Parameter(0)\n",
    "m = fit.Get().Parameter(1)\n",
    "s = fit.Get().Parameter(2)\n",
    "print(a,m,s)\n",
    "\n",
    "#creo delle variabili per stampare il fit con matplotlib\n",
    "par = [fit.Get().Parameter(i) for i in range(3)]\n",
    "xx = np.linspace(-30,30,100)"
   ]
  },
  {
   "cell_type": "code",
   "execution_count": 25,
   "metadata": {},
   "outputs": [
    {
     "data": {
      "image/png": "[encoded data removed]",
      "text/plain": [
       "<Figure size 432x288 with 1 Axes>"
      ]
     },
     "metadata": {
      "needs_background": "light"
     },
     "output_type": "display_data"
    }
   ],
   "source": [
    "#definisco una funzione gaussiana per la stampa del fit\n",
    "def gaussian(x, a ,mu, sig):\n",
    "    return a*np.exp(-np.power(x - mu, 2.) / (2 * np.power(sig, 2.)))\n",
    "\n",
    "#stampo istogramma e funzione\n",
    "histo1.hist(density=False)\n",
    "plt.plot(xx,gaussian(xx,*par))\n",
    "plt.xlim([0,30])\n",
    "plt.show()"
   ]
  },
  {
   "cell_type": "code",
   "execution_count": null,
   "metadata": {},
   "outputs": [],
   "source": []
  }
 ],
 "metadata": {
  "kernelspec": {
   "display_name": "Python 2",
   "language": "python",
   "name": "python2"
  },
  "language_info": {
   "codemirror_mode": {
    "name": "ipython",
    "version": 2
   },
   "file_extension": ".py",
   "mimetype": "text/x-python",
   "name": "python",
   "nbconvert_exporter": "python",
   "pygments_lexer": "ipython2",
   "version": "2.7.15rc1"
  }
 },
 "nbformat": 4,
 "nbformat_minor": 2
}
