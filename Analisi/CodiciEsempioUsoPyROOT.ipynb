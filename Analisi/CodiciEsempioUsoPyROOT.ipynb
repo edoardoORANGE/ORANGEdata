{
 "cells": [
  {
   "cell_type": "code",
   "execution_count": 1,
   "metadata": {},
   "outputs": [
    {
     "name": "stdout",
     "output_type": "stream",
     "text": [
      "Welcome to JupyROOT 6.14/04\n"
     ]
    }
   ],
   "source": [
    "import ROOT as root\n",
    "import numpy as np\n",
    "import matplotlib.pyplot as plt"
   ]
  },
  {
   "cell_type": "code",
   "execution_count": 2,
   "metadata": {},
   "outputs": [
    {
     "name": "stdout",
     "output_type": "stream",
     "text": [
      "[[0. 0.]]\n",
      "('media = ', 0.013167290746076657, 'std = ', 1.0089174115679012)\n"
     ]
    },
    {
     "data": {
      "image/png": "[encoded data removed]",
      "text/plain": [
       "<Figure size 432x288 with 1 Axes>"
      ]
     },
     "metadata": {},
     "output_type": "display_data"
    },
    {
     "name": "stderr",
     "output_type": "stream",
     "text": [
      "Error in <TTreeReaderValueBase::GetBranchDataType()>: Must use TTreeReaderArray to read branch x: it contains an array or a collection.\n",
      "Error in <TTreeReaderValueBase::CreateProxy()>: The branch x contains data of type {UNDETERMINED TYPE}, which does not have a dictionary.\n"
     ]
    }
   ],
   "source": [
    "from sys import exit\n",
    "\n",
    "#NON ESEGUIRE IL PROGRAMMA! IL FILE dati.root NON ESISTE PIU! \n",
    "\n",
    "fileROOT = root.TFile(\"dati.root\") #nome del rootfile\n",
    "tree = fileROOT.Get(\"datatree\") #nome del datatree\n",
    "\n",
    "dataset = [] #creo una lista in cui inserire i dati\n",
    "\n",
    "array = tree.AsMatrix()\n",
    "\n",
    "print(array)\n",
    "\n",
    "for dat in tree:\n",
    "    dataset.extend(dat.x) #salvo i dati della leaf (in questo caso chiamata x) interessata dentro dataset\n",
    "    \n",
    "dataset = np.array(dataset)#converto la lista in un ndarray per una lettura più veloce\n",
    "print('media = ' , np.mean(dataset) , 'std = ' ,  np.std(dataset))\n",
    "#stampo i dati in un istogramma\n",
    "plt.hist(dataset, bins=40)\n",
    "plt.grid()\n",
    "plt.show()"
   ]
  },
  {
   "cell_type": "code",
   "execution_count": 3,
   "metadata": {},
   "outputs": [
    {
     "data": {
      "image/png": "[encoded data removed]",
      "text/plain": [
       "<Figure size 432x288 with 1 Axes>"
      ]
     },
     "metadata": {},
     "output_type": "display_data"
    },
    {
     "name": "stdout",
     "output_type": "stream",
     "text": [
      "area = 380.01\n"
     ]
    }
   ],
   "source": [
    "import scipy.stats as st #importo la libreria utile al fit\n",
    "\n",
    "l = np.linspace(min(dataset) , max(dataset) , len(dataset)) #creo un array della stessa lunghezza di dataset \n",
    "                                                            #che va dal min al max del dataset \n",
    "\n",
    "#istogramma di appoggio che serve per riscalare il fit\n",
    "y,x,_ = plt.hist(dataset , bins = 40 , density = True , color = 'w') \n",
    "\n",
    "m,s = st.norm.fit(dataset) #fa il fit con una distribuzione normale di dataset usando come \n",
    "                                       #parametri m ed s\n",
    "pdf = st.norm.pdf(l , m , s) #salva in pdf i valori di pdf corrispondenti a m ,s per i dati contenuti in l\n",
    "\n",
    "#istogramma dei dati definitivo\n",
    "y1 , x1 , _ = plt.hist(dataset , bins = 40 , density = False)\n",
    "plt.plot(l , pdf*y1.max()/y.max()) \n",
    "plt.grid()\n",
    "plt.title('Fit Distribution w m = {0} and $\\sigma$ = {1}'.format(m , s))\n",
    "plt.show()\n",
    "#print(y.max() , y1.max() , y.max()/y.max())\n",
    "\n",
    "\n",
    "#calcolo dell'area dell'istogramma\n",
    "from decimal import Decimal\n",
    "area = sum(np.diff(x1)*y1)\n",
    "print(\"area = {0:.2f}\".format(area)) #stampo l'area con una precisione di 2 decimali\n"
   ]
  },
  {
   "cell_type": "code",
   "execution_count": 4,
   "metadata": {},
   "outputs": [
    {
     "name": "stdout",
     "output_type": "stream",
     "text": [
      "Tree content:\n",
      "[[ 0.  0.]\n",
      " [ 1. -1.]\n",
      " [ 2. -2.]\n",
      " [ 3. -3.]]\n",
      "\n",
      "Tree converted to a numpy array:\n",
      "[[ 0.  0.]\n",
      " [ 1. -1.]\n",
      " [ 2. -2.]\n",
      " [ 3. -3.]]\n",
      "\n",
      "Return numpy array and labels:\n",
      "['x', 'y']\n",
      "[[ 0.  0.]\n",
      " [ 1. -1.]\n",
      " [ 2. -2.]\n",
      " [ 3. -3.]]\n",
      "\n",
      "Mean of the columns retrieved with a numpy method: [ 1.5 -1.5]\n",
      "\n",
      "Only the content of the branch 'x':\n",
      "[0. 1. 2. 3.]\n",
      "\n",
      "Read all branches except 'x':\n",
      "[ 0. -1. -2. -3.]\n",
      "\n",
      "Return numpy array with data-type 'int':\n",
      "[[ 0  0]\n",
      " [ 1 -1]\n",
      " [ 2 -2]\n",
      " [ 3 -3]]\n",
      "\n",
      "Tree converted to a pandas.DataFrame:\n",
      "     x    y\n",
      "0  0.0  0.0\n",
      "1  1.0 -1.0\n",
      "2  2.0 -2.0\n",
      "3  3.0 -3.0\n"
     ]
    }
   ],
   "source": [
    "import ROOT\n",
    "from sys import exit\n",
    "\n",
    "try:\n",
    "    import numpy as np\n",
    "except:\n",
    "    print(\"Failed to import numpy.\")\n",
    "    exit()\n",
    "# Helper function to create an example tree\n",
    "def make_example():\n",
    "    root_file = ROOT.TFile(\"pyroot002_example.root\", \"RECREATE\")\n",
    "    tree = ROOT.TTree(\"tree\", \"tutorial\")\n",
    "    x = np.empty((1), dtype=\"float32\")\n",
    "    y = np.empty((1), dtype=\"float32\")\n",
    "    tree.Branch(\"x\", x, \"x/F\")\n",
    "    tree.Branch(\"y\", y, \"y/F\")\n",
    "    for i in range(4):\n",
    "        x[0] = i\n",
    "        y[0] = -i\n",
    "        tree.Fill()\n",
    "    root_file.Write()\n",
    "    return (root_file, x, y), tree\n",
    "# The conversion of the TTree to a numpy array is implemented with multi-\n",
    "# thread support.\n",
    "ROOT.ROOT.EnableImplicitMT()\n",
    "# Create a ROOT file with a tree and the branches \"x\" and \"y\"\n",
    "_, tree = make_example()\n",
    "# Print content of the tree by looping explicitly\n",
    "print(\"Tree content:\\n{}\\n\".format(\n",
    "    np.asarray([[tree.x, tree.y] for event in tree])))\n",
    "# Read-out full tree as numpy array\n",
    "array = tree.AsMatrix()\n",
    "print(\"Tree converted to a numpy array:\\n{}\\n\".format(array))\n",
    "# Get numpy array and according labels of the columns\n",
    "array, labels = tree.AsMatrix(return_labels=True)\n",
    "print(\"Return numpy array and labels:\\n{}\\n{}\\n\".format(labels, array))\n",
    "# Apply numpy methods on the data\n",
    "print(\"Mean of the columns retrieved with a numpy method: {}\\n\".format(\n",
    "    np.mean(array, axis=0)))\n",
    "# Read only specific branches\n",
    "array = tree.AsMatrix(columns=[\"x\"])\n",
    "print(\"Only the content of the branch 'x':\\n{}\\n\".format(np.squeeze(array)))\n",
    "array = tree.AsMatrix(exclude=[\"x\"])\n",
    "print(\"Read all branches except 'x':\\n{}\\n\".format(np.squeeze(array)))\n",
    "# Get an array with a specific data-type\n",
    "array = tree.AsMatrix(dtype=\"int\")\n",
    "print(\"Return numpy array with data-type 'int':\\n{}\\n\".format(array))\n",
    "## Convert the tree to a pandas.DataFrame\n",
    "try:\n",
    "    import pandas\n",
    "except:\n",
    "    print(\"Failed to import pandas.\")\n",
    "    exit()\n",
    "data, columns = tree.AsMatrix(return_labels=True)\n",
    "df = pandas.DataFrame(data=data, columns=columns)\n",
    "print(\"Tree converted to a pandas.DataFrame:\\n{}\".format(df))"
   ]
  }
 ],
 "metadata": {
  "kernelspec": {
   "display_name": "Python 2",
   "language": "python",
   "name": "python2"
  },
  "language_info": {
   "codemirror_mode": {
    "name": "ipython",
    "version": 2
   },
   "file_extension": ".py",
   "mimetype": "text/x-python",
   "name": "python",
   "nbconvert_exporter": "python",
   "pygments_lexer": "ipython2",
   "version": "2.7.15rc1"
  }
 },
 "nbformat": 4,
 "nbformat_minor": 2
}
